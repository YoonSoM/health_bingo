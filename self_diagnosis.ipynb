{
  "nbformat": 4,
  "nbformat_minor": 0,
  "metadata": {
    "colab": {
      "provenance": [],
      "authorship_tag": "ABX9TyON93xh40y1uyRnzBEHYYFj",
      "include_colab_link": true
    },
    "kernelspec": {
      "name": "python3",
      "display_name": "Python 3"
    },
    "language_info": {
      "name": "python"
    }
  },
  "cells": [
    {
      "cell_type": "markdown",
      "metadata": {
        "id": "view-in-github",
        "colab_type": "text"
      },
      "source": [
        "<a href=\"https://colab.research.google.com/github/YoonSoM/health_bingo/blob/master/self_diagnosis.ipynb\" target=\"_parent\"><img src=\"https://colab.research.google.com/assets/colab-badge.svg\" alt=\"Open In Colab\"/></a>"
      ]
    },
    {
      "cell_type": "code",
      "execution_count": 3,
      "metadata": {
        "colab": {
          "base_uri": "https://localhost:8080/"
        },
        "id": "RMzNszmlENyv",
        "outputId": "cd548be5-20fa-4816-bd7c-eca1cfb355fe"
      },
      "outputs": [
        {
          "output_type": "stream",
          "name": "stdout",
          "text": [
            "건강 상태 자가진단 프로그램에 오신 것을 환영합니다!\n",
            "1. 최근 2주 동안 피로감을 자주 느끼셨나요? (예/아니요): 예\n",
            "2. 최근 2주 동안 식욕 변화가 있었나요? (예/아니요): 예\n",
            "3. 최근 2주 동안 수면 문제가 있었나요? (예/아니요): 예\n",
            "4. 최근 2주 동안 신체 활동에 어려움이 있었나요? (예/아니요): 아니요\n",
            "5. 최근 2주 동안 기분이 우울하거나 슬펐나요? (예/아니요): 예\n",
            "\n",
            "진단 결과:\n",
            "주의가 필요합니다. 전문가와 상담을 권장합니다.\n"
          ]
        }
      ],
      "source": [
        "def health_self_assessment():\n",
        "    print(\"건강 상태 자가진단 프로그램에 오신 것을 환영합니다!\")\n",
        "\n",
        "    # 질문 목록\n",
        "    questions = [\n",
        "        \"1. 최근 2주 동안 피로감을 자주 느끼셨나요? (예/아니요): \",\n",
        "        \"2. 최근 2주 동안 식욕 변화가 있었나요? (예/아니요): \",\n",
        "        \"3. 최근 2주 동안 수면 문제가 있었나요? (예/아니요): \",\n",
        "        \"4. 최근 2주 동안 신체 활동에 어려움이 있었나요? (예/아니요): \",\n",
        "        \"5. 최근 2주 동안 기분이 우울하거나 슬펐나요? (예/아니요): \"\n",
        "    ]\n",
        "\n",
        "    # 사용자의 답변을 저장할 리스트\n",
        "    answers = []\n",
        "\n",
        "    # 질문을 출력하고 답변을 받음\n",
        "    for question in questions:\n",
        "        answer = input(question).strip().lower()\n",
        "        while answer not in ['예', '아니요']:\n",
        "            print(\"잘못된 입력입니다. '예' 또는 '아니요'로 답해주세요.\")\n",
        "            answer = input(question).strip().lower()\n",
        "        answers.append(answer)\n",
        "\n",
        "    # 진단 결과\n",
        "    positive_answers = answers.count('예')\n",
        "\n",
        "    print(\"\\n진단 결과:\")\n",
        "    if positive_answers == 0:\n",
        "        print(\"건강 상태가 양호합니다.\")\n",
        "    elif 1 <= positive_answers <= 2:\n",
        "        print(\"경미한 증상이 있습니다. 생활 습관을 점검하고 필요하면 전문가와 상담하세요.\")\n",
        "    elif 3 <= positive_answers <= 4:\n",
        "        print(\"주의가 필요합니다. 전문가와 상담을 권장합니다.\")\n",
        "    else:\n",
        "        print(\"심각한 증상이 있습니다. 즉시 전문가의 진단을 받으세요.\")\n",
        "\n",
        "if __name__ == \"__main__\":\n",
        "    health_self_assessment()\n"
      ]
    },
    {
      "cell_type": "code",
      "source": [],
      "metadata": {
        "id": "BeoQctKEEhb0"
      },
      "execution_count": null,
      "outputs": []
    }
  ]
}