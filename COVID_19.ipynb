{
  "nbformat": 4,
  "nbformat_minor": 0,
  "metadata": {
    "colab": {
      "provenance": [],
      "authorship_tag": "ABX9TyOuBw+SyvJWbHSuOHWf9+KE",
      "include_colab_link": true
    },
    "kernelspec": {
      "name": "python3",
      "display_name": "Python 3"
    },
    "language_info": {
      "name": "python"
    }
  },
  "cells": [
    {
      "cell_type": "markdown",
      "metadata": {
        "id": "view-in-github",
        "colab_type": "text"
      },
      "source": [
        "<a href=\"https://colab.research.google.com/github/YoonSoM/health_bingo/blob/master/COVID_19.ipynb\" target=\"_parent\"><img src=\"https://colab.research.google.com/assets/colab-badge.svg\" alt=\"Open In Colab\"/></a>"
      ]
    },
    {
      "cell_type": "code",
      "execution_count": 1,
      "metadata": {
        "colab": {
          "base_uri": "https://localhost:8080/"
        },
        "id": "33FqiIYqR60z",
        "outputId": "c501f411-42bc-4457-9270-2b1df4222ea7"
      },
      "outputs": [
        {
          "output_type": "stream",
          "name": "stdout",
          "text": [
            "Welcome to the self-diagnosis tool.\n",
            "Do you have a fever? (Yes=1, No=0): 1\n",
            "Do you have a cough? (Yes=1, No=0): 1\n",
            "Do you have shortness of breath? (Yes=1, No=0): 0\n",
            "Do you have a sore throat? (Yes=1, No=0): 0\n",
            "Do you feel fatigue? (Yes=1, No=0): 1\n",
            "Do you have muscle or body aches? (Yes=1, No=0): 0\n",
            "Do you have a headache? (Yes=1, No=0): 1\n",
            "Do you have a loss of taste or smell? (Yes=1, No=0): 0\n",
            "Based on your symptoms, the closest match is: Flu\n"
          ]
        }
      ],
      "source": [
        "def get_symptom_score():\n",
        "    symptoms = [\n",
        "        {\"question\": \"Do you have a fever?\", \"weight\": 2},\n",
        "        {\"question\": \"Do you have a cough?\", \"weight\": 2},\n",
        "        {\"question\": \"Do you have shortness of breath?\", \"weight\": 3},\n",
        "        {\"question\": \"Do you have a sore throat?\", \"weight\": 1},\n",
        "        {\"question\": \"Do you feel fatigue?\", \"weight\": 2},\n",
        "        {\"question\": \"Do you have muscle or body aches?\", \"weight\": 1},\n",
        "        {\"question\": \"Do you have a headache?\", \"weight\": 1},\n",
        "        {\"question\": \"Do you have a loss of taste or smell?\", \"weight\": 2}\n",
        "    ]\n",
        "\n",
        "    scores = []\n",
        "    for symptom in symptoms:\n",
        "        while True:\n",
        "            try:\n",
        "                answer = int(input(f\"{symptom['question']} (Yes=1, No=0): \"))\n",
        "                if answer not in [0, 1]:\n",
        "                    raise ValueError\n",
        "                scores.append(answer * symptom[\"weight\"])\n",
        "                break\n",
        "            except ValueError:\n",
        "                print(\"Please enter 1 for Yes or 0 for No.\")\n",
        "\n",
        "    return sum(scores)\n",
        "\n",
        "def diagnose(total_score):\n",
        "    conditions = {\n",
        "        \"Common Cold\": range(1, 5),\n",
        "        \"Flu\": range(5, 10),\n",
        "        \"COVID-19\": range(10, 20)\n",
        "    }\n",
        "\n",
        "    for condition, score_range in conditions.items():\n",
        "        if total_score in score_range:\n",
        "            return condition\n",
        "    return \"Unknown condition\"\n",
        "\n",
        "def main():\n",
        "    print(\"Welcome to the self-diagnosis tool.\")\n",
        "    total_score = get_symptom_score()\n",
        "    diagnosis = diagnose(total_score)\n",
        "    print(f\"Based on your symptoms, the closest match is: {diagnosis}\")\n",
        "\n",
        "if __name__ == \"__main__\":\n",
        "    main()\n"
      ]
    },
    {
      "cell_type": "code",
      "source": [],
      "metadata": {
        "id": "wSvdGGpMSD6X"
      },
      "execution_count": null,
      "outputs": []
    }
  ]
}