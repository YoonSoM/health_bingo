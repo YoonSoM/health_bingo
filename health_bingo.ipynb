{
  "nbformat": 4,
  "nbformat_minor": 0,
  "metadata": {
    "colab": {
      "provenance": [],
      "authorship_tag": "ABX9TyP91i1bQGgHF14ZeEH9oSt0",
      "include_colab_link": true
    },
    "kernelspec": {
      "name": "python3",
      "display_name": "Python 3"
    },
    "language_info": {
      "name": "python"
    }
  },
  "cells": [
    {
      "cell_type": "markdown",
      "metadata": {
        "id": "view-in-github",
        "colab_type": "text"
      },
      "source": [
        "<a href=\"https://colab.research.google.com/github/YoonSoM/health_bingo/blob/master/health_bingo.ipynb\" target=\"_parent\"><img src=\"https://colab.research.google.com/assets/colab-badge.svg\" alt=\"Open In Colab\"/></a>"
      ]
    },
    {
      "cell_type": "code",
      "execution_count": 1,
      "metadata": {
        "colab": {
          "base_uri": "https://localhost:8080/"
        },
        "id": "9pi2frVtRBSw",
        "outputId": "b6687214-312d-4737-822b-6f49173673b6"
      },
      "outputs": [
        {
          "output_type": "stream",
          "name": "stdout",
          "text": [
            "안녕하세요! 간단한 자가진단 도구입니다.\n",
            "각 질문에 대해 예 또는 아니오로 대답해 주세요.\n",
            "발열이 있나요? (예/아니오): 예\n",
            "기침이 나나요? (예/아니오): 예\n",
            "목이 아프신가요? (예/아니오): 예\n",
            "두통이 있나요? (예/아니오): 예\n",
            "근육통이 있나요? (예/아니오): 예\n",
            "피로감을 느끼시나요? (예/아니오): 예\n",
            "호흡이 어렵나요? (예/아니오): 아니오\n",
            "맛이나 냄새를 잘 못 느끼나요? (예/아니오): 예\n",
            "메스꺼움이나 구토가 있나요? (예/아니오): 아니오\n",
            "복통이 있나요? (예/아니오): 아니오\n",
            "설사가 있나요? (예/아니오): 아니오\n",
            "코막힘이 있나요? (예/아니오): 예\n",
            "재채기가 있나요? (예/아니오): 예\n",
            "눈이 가렵나요? (예/아니오): 아니오\n",
            "눈이 충혈되었나요? (예/아니오): 아니오\n",
            "피부 발진이 있나요? (예/아니오): 아니오\n",
            "배뇨 시 통증이 있나요? (예/아니오): 아니오\n",
            "발목이 붓거나 아프신가요? (예/아니오): 아니오\n",
            "체중이 감소했나요? (예/아니오): 예\n",
            "체중이 증가했나요? (예/아니오): 아니오\n",
            "다음과 같은 질환이 의심됩니다:\n",
            "- 감기 (Common Cold)\n",
            "- 편두통 (Migraine)\n",
            "- 갑상선 기능 문제 (Thyroid Issues)\n",
            "- 코로나19 (COVID-19)\n"
          ]
        }
      ],
      "source": [
        "def health_diagnosis():\n",
        "    print(\"안녕하세요! 간단한 자가진단 도구입니다.\")\n",
        "    print(\"각 질문에 대해 예 또는 아니오로 대답해 주세요.\")\n",
        "\n",
        "    # 증상 질문 목록\n",
        "    questions = {\n",
        "        \"발열이 있나요? (예/아니오): \": \"fever\",\n",
        "        \"기침이 나나요? (예/아니오): \": \"cough\",\n",
        "        \"목이 아프신가요? (예/아니오): \": \"sore_throat\",\n",
        "        \"두통이 있나요? (예/아니오): \": \"headache\",\n",
        "        \"근육통이 있나요? (예/아니오): \": \"muscle_pain\",\n",
        "        \"피로감을 느끼시나요? (예/아니오): \": \"fatigue\",\n",
        "        \"호흡이 어렵나요? (예/아니오): \": \"difficulty_breathing\",\n",
        "        \"맛이나 냄새를 잘 못 느끼나요? (예/아니오): \": \"loss_of_taste_smell\",\n",
        "        \"메스꺼움이나 구토가 있나요? (예/아니오): \": \"nausea_vomiting\",\n",
        "        \"복통이 있나요? (예/아니오): \": \"abdominal_pain\",\n",
        "        \"설사가 있나요? (예/아니오): \": \"diarrhea\",\n",
        "        \"코막힘이 있나요? (예/아니오): \": \"nasal_congestion\",\n",
        "        \"재채기가 있나요? (예/아니오): \": \"sneezing\",\n",
        "        \"눈이 가렵나요? (예/아니오): \": \"itchy_eyes\",\n",
        "        \"눈이 충혈되었나요? (예/아니오): \": \"red_eyes\",\n",
        "        \"피부 발진이 있나요? (예/아니오): \": \"skin_rash\",\n",
        "        \"배뇨 시 통증이 있나요? (예/아니오): \": \"pain_urination\",\n",
        "        \"발목이 붓거나 아프신가요? (예/아니오): \": \"ankle_pain_swelling\",\n",
        "        \"체중이 감소했나요? (예/아니오): \": \"weight_loss\",\n",
        "        \"체중이 증가했나요? (예/아니오): \": \"weight_gain\"\n",
        "    }\n",
        "\n",
        "    # 사용자의 응답을 저장할 딕셔너리\n",
        "    symptoms = {key: False for key in questions.values()}\n",
        "\n",
        "    # 질문을 하나씩 물어봅니다.\n",
        "    for question, symptom in questions.items():\n",
        "        answer = input(question).strip().lower()\n",
        "        while answer not in [\"예\", \"아니오\"]:\n",
        "            print(\"잘못된 입력입니다. 예 또는 아니오로 대답해 주세요.\")\n",
        "            answer = input(question).strip().lower()\n",
        "        symptoms[symptom] = (answer == \"예\")\n",
        "\n",
        "    # 간단한 진단 로직\n",
        "    diagnoses = []\n",
        "\n",
        "    if symptoms[\"fever\"] and symptoms[\"cough\"] and symptoms[\"sore_throat\"] and (symptoms[\"headache\"] or symptoms[\"muscle_pain\"]):\n",
        "        diagnoses.append(\"감기 (Common Cold)\")\n",
        "\n",
        "    if symptoms[\"fever\"] and symptoms[\"cough\"] and symptoms[\"difficulty_breathing\"]:\n",
        "        diagnoses.append(\"독감 (Influenza)\")\n",
        "\n",
        "    if symptoms[\"headache\"] and (symptoms[\"muscle_pain\"] or symptoms[\"fatigue\"]):\n",
        "        diagnoses.append(\"편두통 (Migraine)\")\n",
        "\n",
        "    if symptoms[\"abdominal_pain\"] and symptoms[\"diarrhea\"] and symptoms[\"nausea_vomiting\"]:\n",
        "        diagnoses.append(\"위장염 (Gastroenteritis)\")\n",
        "\n",
        "    if symptoms[\"sneezing\"] and symptoms[\"nasal_congestion\"] and symptoms[\"itchy_eyes\"]:\n",
        "        diagnoses.append(\"알레르기 (Allergy)\")\n",
        "\n",
        "    if symptoms[\"red_eyes\"] and symptoms[\"itchy_eyes\"]:\n",
        "        diagnoses.append(\"결막염 (Conjunctivitis)\")\n",
        "\n",
        "    if symptoms[\"cough\"] and symptoms[\"difficulty_breathing\"]:\n",
        "        diagnoses.append(\"기관지염 (Bronchitis)\")\n",
        "\n",
        "    if symptoms[\"pain_urination\"] and symptoms[\"abdominal_pain\"] and symptoms[\"fever\"]:\n",
        "        diagnoses.append(\"요로감염 (Urinary Tract Infection)\")\n",
        "\n",
        "    if symptoms[\"skin_rash\"] and symptoms[\"itchy_eyes\"]:\n",
        "        diagnoses.append(\"피부염 (Dermatitis)\")\n",
        "\n",
        "    if symptoms[\"fatigue\"] and (symptoms[\"weight_gain\"] or symptoms[\"weight_loss\"]):\n",
        "        diagnoses.append(\"갑상선 기능 문제 (Thyroid Issues)\")\n",
        "\n",
        "    if symptoms[\"fever\"] and symptoms[\"cough\"] and symptoms[\"loss_of_taste_smell\"]:\n",
        "        diagnoses.append(\"코로나19 (COVID-19)\")\n",
        "\n",
        "    if symptoms[\"ankle_pain_swelling\"]:\n",
        "        diagnoses.append(\"발목염좌 (Ankle Sprain)\")\n",
        "\n",
        "    # 진단 결과 출력\n",
        "    if diagnoses:\n",
        "        print(\"다음과 같은 질환이 의심됩니다:\")\n",
        "        for diagnosis in diagnoses:\n",
        "            print(f\"- {diagnosis}\")\n",
        "    else:\n",
        "        print(\"특별한 질환이 의심되지 않습니다. 하지만 건강에 이상이 느껴진다면 병원에 방문하여 진단을 받아보세요.\")\n",
        "\n",
        "# 자가진단 도구 실행\n",
        "health_diagnosis()\n"
      ]
    },
    {
      "cell_type": "code",
      "source": [],
      "metadata": {
        "id": "sWnUGEfTRUJr"
      },
      "execution_count": 1,
      "outputs": []
    }
  ]
}