{
  "nbformat": 4,
  "nbformat_minor": 0,
  "metadata": {
    "colab": {
      "provenance": [],
      "authorship_tag": "ABX9TyMX4FgSFBMYvgFYFJAemTQl",
      "include_colab_link": true
    },
    "kernelspec": {
      "name": "python3",
      "display_name": "Python 3"
    },
    "language_info": {
      "name": "python"
    }
  },
  "cells": [
    {
      "cell_type": "markdown",
      "metadata": {
        "id": "view-in-github",
        "colab_type": "text"
      },
      "source": [
        "<a href=\"https://colab.research.google.com/github/YoonSoM/health_bingo/blob/master/algorithm.ipynb\" target=\"_parent\"><img src=\"https://colab.research.google.com/assets/colab-badge.svg\" alt=\"Open In Colab\"/></a>"
      ]
    },
    {
      "cell_type": "code",
      "execution_count": 1,
      "metadata": {
        "colab": {
          "base_uri": "https://localhost:8080/"
        },
        "id": "Eu_diBc2MKGM",
        "outputId": "1aca49f9-2472-41f6-fb8a-42f120ccf471"
      },
      "outputs": [
        {
          "output_type": "stream",
          "name": "stdout",
          "text": [
            "자가진단 프로그램에 오신 것을 환영합니다!\n",
            "다음 질문에 답해 주세요.\n",
            "\n",
            "1. 열이 있습니까? (예/아니오): 아니오\n",
            "2. 피로감을 느끼십니까? (예/아니오): 예\n",
            "3. 두통이 있습니까? (예/아니오): 예\n",
            "\n",
            "결과: 편두통\n"
          ]
        }
      ],
      "source": [
        "def 자가진단():\n",
        "    print(\"자가진단 프로그램에 오신 것을 환영합니다!\")\n",
        "    print(\"다음 질문에 답해 주세요.\\n\")\n",
        "\n",
        "    diagnosis = None\n",
        "\n",
        "    # 초기 질문\n",
        "    fever = input(\"1. 열이 있습니까? (예/아니오): \").strip().lower()\n",
        "\n",
        "    if fever == '예':\n",
        "        cough = input(\"2. 기침이 있습니까? (예/아니오): \").strip().lower()\n",
        "        if cough == '예':\n",
        "            breath_shortness = input(\"3. 숨이 차십니까? (예/아니오): \").strip().lower()\n",
        "            if breath_shortness == '예':\n",
        "                contact = input(\"4. 최근에 코로나19 확진자와 접촉한 적이 있습니까? (예/아니오): \").strip().lower()\n",
        "                if contact == '예':\n",
        "                    diagnosis = \"코로나19\"\n",
        "                else:\n",
        "                    diagnosis = \"독감\"\n",
        "            else:\n",
        "                diagnosis = \"감기\"\n",
        "        else:\n",
        "            sore_throat = input(\"3. 목이 아프십니까? (예/아니오): \").strip().lower()\n",
        "            if sore_throat == '예':\n",
        "                diagnosis = \"감기\"\n",
        "            else:\n",
        "                headache = input(\"4. 두통이 있습니까? (예/아니오): \").strip().lower()\n",
        "                if headache == '예':\n",
        "                    diagnosis = \"편두통\"\n",
        "                else:\n",
        "                    diagnosis = \"일반 발열\"\n",
        "    else:\n",
        "        fatigue = input(\"2. 피로감을 느끼십니까? (예/아니오): \").strip().lower()\n",
        "        if fatigue == '예':\n",
        "            headache = input(\"3. 두통이 있습니까? (예/아니오): \").strip().lower()\n",
        "            if headache == '예':\n",
        "                diagnosis = \"편두통\"\n",
        "            else:\n",
        "                diarrhea = input(\"4. 설사가 있습니까? (예/아니오): \").strip().lower()\n",
        "                if diarrhea == '예':\n",
        "                    diagnosis = \"장염\"\n",
        "                else:\n",
        "                    diagnosis = \"일반 피로\"\n",
        "        else:\n",
        "            diagnosis = \"심각한 증상은 보이지 않습니다. 하지만 건강을 주의하고 필요한 경우 병원을 방문하세요.\"\n",
        "\n",
        "    # 진단 결과 출력\n",
        "    if diagnosis:\n",
        "        print(f\"\\n결과: {diagnosis}\")\n",
        "    else:\n",
        "        print(\"\\n결과: 진단할 수 없습니다. 더 많은 정보가 필요합니다.\")\n",
        "\n",
        "if __name__ == \"__main__\":\n",
        "    자가진단()\n"
      ]
    },
    {
      "cell_type": "code",
      "source": [],
      "metadata": {
        "id": "dvM9PcBzOAux"
      },
      "execution_count": 1,
      "outputs": []
    }
  ]
}